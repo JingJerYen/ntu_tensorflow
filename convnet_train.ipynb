{
 "cells": [
  {
   "cell_type": "markdown",
   "metadata": {},
   "source": [
    "# Convolutional Neural Networks"
   ]
  },
  {
   "cell_type": "markdown",
   "metadata": {},
   "source": [
    "## import tensorflow and mnist data"
   ]
  },
  {
   "cell_type": "code",
   "execution_count": 1,
   "metadata": {
    "collapsed": false
   },
   "outputs": [
    {
     "name": "stdout",
     "output_type": "stream",
     "text": [
      "Extracting MNIST_data/train-images-idx3-ubyte.gz\n",
      "Extracting MNIST_data/train-labels-idx1-ubyte.gz\n",
      "Extracting MNIST_data/t10k-images-idx3-ubyte.gz\n",
      "Extracting MNIST_data/t10k-labels-idx1-ubyte.gz\n"
     ]
    }
   ],
   "source": [
    "import tensorflow as tf\n",
    "from tensorflow.examples.tutorials.mnist import input_data\n",
    "\n",
    "mnist = input_data.read_data_sets('MNIST_data', one_hot=True)"
   ]
  },
  {
   "cell_type": "markdown",
   "metadata": {},
   "source": [
    "## training data"
   ]
  },
  {
   "cell_type": "code",
   "execution_count": 2,
   "metadata": {
    "collapsed": true
   },
   "outputs": [],
   "source": [
    "batch_xs, batch_ys = mnist.train.next_batch(5)"
   ]
  },
  {
   "cell_type": "markdown",
   "metadata": {},
   "source": [
    "## computational graph"
   ]
  },
  {
   "cell_type": "code",
   "execution_count": 3,
   "metadata": {
    "collapsed": true
   },
   "outputs": [],
   "source": [
    "def weight_variable(shape):\n",
    "    initial = tf.truncated_normal(shape, stddev=0.1, dtype=tf.float32)\n",
    "    return tf.Variable(initial)\n",
    "def bias_variable(shape):\n",
    "    initial = tf.constant(0, shape=shape, dtype=tf.float32)\n",
    "    return tf.Variable(initial)\n",
    "def conv2d(x, W):\n",
    "    return tf.nn.conv2d(x, W, strides=[1, 1, 1, 1], padding='SAME')\n",
    "def max_pool_2x2(x):\n",
    "    return tf.nn.max_pool(x, ksize=[1, 2, 2, 1],\n",
    "                        strides=[1, 2, 2, 1], padding='SAME')"
   ]
  },
  {
   "cell_type": "code",
   "execution_count": 4,
   "metadata": {
    "collapsed": false
   },
   "outputs": [
    {
     "name": "stdout",
     "output_type": "stream",
     "text": [
      "WARNING:tensorflow:From /home/markchang/.pyenv/versions/anaconda-2.4.0/lib/python2.7/site-packages/tensorflow/python/util/tf_should_use.py:170: initialize_all_variables (from tensorflow.python.ops.variables) is deprecated and will be removed after 2017-03-02.\n",
      "Instructions for updating:\n",
      "Use `tf.global_variables_initializer` instead.\n"
     ]
    },
    {
     "name": "stderr",
     "output_type": "stream",
     "text": [
      "WARNING:tensorflow:From /home/markchang/.pyenv/versions/anaconda-2.4.0/lib/python2.7/site-packages/tensorflow/python/util/tf_should_use.py:170: initialize_all_variables (from tensorflow.python.ops.variables) is deprecated and will be removed after 2017-03-02.\n",
      "Instructions for updating:\n",
      "Use `tf.global_variables_initializer` instead.\n"
     ]
    }
   ],
   "source": [
    "x_ = tf.placeholder(tf.float32, [None, 784], name=\"x_\")\n",
    "y_ = tf.placeholder(tf.float32, [None, 10], name=\"y_\")\n",
    "\n",
    "\n",
    "x_image = tf.reshape(x_, [-1,28,28,1])\n",
    "\n",
    "W_conv1 = weight_variable([5, 5, 1, 32])\n",
    "b_conv1 = bias_variable([32])\n",
    "h_conv1 = tf.nn.relu(conv2d(x_image, W_conv1) + b_conv1)\n",
    "h_pool1 = max_pool_2x2(h_conv1)\n",
    "\n",
    "W_conv2 = weight_variable([5, 5, 32, 64])\n",
    "b_conv2 = bias_variable([64])\n",
    "h_conv2 = tf.nn.relu(conv2d(h_pool1, W_conv2) + b_conv2)\n",
    "h_pool2 = max_pool_2x2(h_conv2)\n",
    "\n",
    "W_fc1 = weight_variable([7 * 7 * 64, 1024])\n",
    "b_fc1 = bias_variable([1024])\n",
    "h_pool2_flat = tf.reshape(h_pool2, [-1, 7*7*64])\n",
    "h_fc1 = tf.nn.relu(tf.matmul(h_pool2_flat, W_fc1) + b_fc1)\n",
    "\n",
    "keep_prob = tf.placeholder(tf.float32)\n",
    "h_fc1_drop = tf.nn.dropout(h_fc1, keep_prob)\n",
    "W_fc2 = weight_variable([1024, 10])\n",
    "b_fc2 = bias_variable([10])\n",
    "y= tf.nn.softmax(tf.matmul(h_fc1_drop, W_fc2) + b_fc2)\n",
    "\n",
    "\n",
    "cross_entropy = -tf.reduce_sum(y_ * tf.log(y))\n",
    "\n",
    "optimizer = tf.train.AdamOptimizer(1e-4)\n",
    "trainer = optimizer.minimize(cross_entropy)\n",
    "\n",
    "init = tf.initialize_all_variables()"
   ]
  },
  {
   "cell_type": "markdown",
   "metadata": {},
   "source": [
    "## session"
   ]
  },
  {
   "cell_type": "code",
   "execution_count": 5,
   "metadata": {
    "collapsed": true
   },
   "outputs": [],
   "source": [
    "sess = tf.Session()\n",
    "sess.run(init)"
   ]
  },
  {
   "cell_type": "markdown",
   "metadata": {},
   "source": [
    "## conv1"
   ]
  },
  {
   "cell_type": "code",
   "execution_count": 6,
   "metadata": {
    "collapsed": false,
    "scrolled": true
   },
   "outputs": [
    {
     "data": {
      "text/plain": [
       "(5, 28, 28, 32)"
      ]
     },
     "execution_count": 6,
     "metadata": {},
     "output_type": "execute_result"
    }
   ],
   "source": [
    "result_h_conv1 = sess.run(h_conv1,  feed_dict={x_: batch_xs})\n",
    "result_h_conv1.shape"
   ]
  },
  {
   "cell_type": "markdown",
   "metadata": {},
   "source": [
    "## pool1"
   ]
  },
  {
   "cell_type": "code",
   "execution_count": 7,
   "metadata": {
    "collapsed": false,
    "scrolled": true
   },
   "outputs": [
    {
     "data": {
      "text/plain": [
       "(5, 14, 14, 32)"
      ]
     },
     "execution_count": 7,
     "metadata": {},
     "output_type": "execute_result"
    }
   ],
   "source": [
    "result_h_pool1 = sess.run(h_pool1,  feed_dict={x_: batch_xs})\n",
    "result_h_pool1.shape"
   ]
  },
  {
   "cell_type": "markdown",
   "metadata": {
    "collapsed": true
   },
   "source": [
    "## conv2"
   ]
  },
  {
   "cell_type": "code",
   "execution_count": 8,
   "metadata": {
    "collapsed": false
   },
   "outputs": [
    {
     "data": {
      "text/plain": [
       "(5, 14, 14, 64)"
      ]
     },
     "execution_count": 8,
     "metadata": {},
     "output_type": "execute_result"
    }
   ],
   "source": [
    "result_h_conv2 = sess.run(h_conv2,  feed_dict={x_: batch_xs})\n",
    "result_h_conv2.shape"
   ]
  },
  {
   "cell_type": "markdown",
   "metadata": {
    "collapsed": true
   },
   "source": [
    "## pool2"
   ]
  },
  {
   "cell_type": "code",
   "execution_count": 9,
   "metadata": {
    "collapsed": false
   },
   "outputs": [
    {
     "data": {
      "text/plain": [
       "(5, 7, 7, 64)"
      ]
     },
     "execution_count": 9,
     "metadata": {},
     "output_type": "execute_result"
    }
   ],
   "source": [
    "result_h_pool2 = sess.run(h_pool2,  feed_dict={x_: batch_xs})\n",
    "result_h_pool2.shape"
   ]
  },
  {
   "cell_type": "markdown",
   "metadata": {
    "collapsed": true
   },
   "source": [
    "## fc1"
   ]
  },
  {
   "cell_type": "code",
   "execution_count": 10,
   "metadata": {
    "collapsed": false
   },
   "outputs": [
    {
     "data": {
      "text/plain": [
       "(5, 1024)"
      ]
     },
     "execution_count": 10,
     "metadata": {},
     "output_type": "execute_result"
    }
   ],
   "source": [
    "result_h_fc1 = sess.run(h_fc1,  feed_dict={x_: batch_xs})\n",
    "result_h_fc1.shape"
   ]
  },
  {
   "cell_type": "markdown",
   "metadata": {
    "collapsed": true
   },
   "source": [
    "## y"
   ]
  },
  {
   "cell_type": "code",
   "execution_count": 11,
   "metadata": {
    "collapsed": false
   },
   "outputs": [
    {
     "data": {
      "text/plain": [
       "(5, 10)"
      ]
     },
     "execution_count": 11,
     "metadata": {},
     "output_type": "execute_result"
    }
   ],
   "source": [
    "result_y = sess.run(y,  feed_dict={x_: batch_xs, keep_prob:0.5})\n",
    "result_y.shape"
   ]
  },
  {
   "cell_type": "markdown",
   "metadata": {},
   "source": [
    "## evaluation"
   ]
  },
  {
   "cell_type": "code",
   "execution_count": 12,
   "metadata": {
    "collapsed": false
   },
   "outputs": [],
   "source": [
    "correct_prediction = tf.equal(tf.argmax(y, 1), tf.argmax(y_, 1))\n",
    "accuracy = tf.reduce_mean(tf.cast(correct_prediction, tf.float32))"
   ]
  },
  {
   "cell_type": "markdown",
   "metadata": {},
   "source": [
    "## saver"
   ]
  },
  {
   "cell_type": "code",
   "execution_count": 13,
   "metadata": {
    "collapsed": true
   },
   "outputs": [],
   "source": [
    "saver = tf.train.Saver()"
   ]
  },
  {
   "cell_type": "markdown",
   "metadata": {},
   "source": [
    "## training"
   ]
  },
  {
   "cell_type": "code",
   "execution_count": 14,
   "metadata": {
    "collapsed": false
   },
   "outputs": [
    {
     "name": "stdout",
     "output_type": "stream",
     "text": [
      "100, valid_accurarcy:0.894600015879\n",
      "save model\n",
      "200, valid_accurarcy:0.929600019455\n",
      "save model\n",
      "300, valid_accurarcy:0.94640001893\n",
      "save model\n",
      "400, valid_accurarcy:0.954400007725\n",
      "save model\n",
      "500, valid_accurarcy:0.962800004482\n",
      "save model\n",
      "600, valid_accurarcy:0.966000002623\n",
      "save model\n",
      "700, valid_accurarcy:0.969000012875\n",
      "save model\n",
      "800, valid_accurarcy:0.97180000186\n",
      "save model\n",
      "900, valid_accurarcy:0.973400001526\n",
      "save model\n",
      "1000, valid_accurarcy:0.97539999485\n",
      "save model\n",
      "1100, valid_accurarcy:0.976399998665\n",
      "save model\n",
      "1200, valid_accurarcy:0.97560000062\n",
      "1300, valid_accurarcy:0.97839999795\n",
      "save model\n",
      "1400, valid_accurarcy:0.97939999342\n",
      "save model\n",
      "1500, valid_accurarcy:0.979999990463\n",
      "save model\n",
      "1600, valid_accurarcy:0.978399994373\n",
      "1700, valid_accurarcy:0.981799993515\n",
      "save model\n",
      "1800, valid_accurarcy:0.982599996328\n",
      "save model\n",
      "1900, valid_accurarcy:0.982799987793\n",
      "save model\n",
      "2000, valid_accurarcy:0.982799983025\n",
      "2100, valid_accurarcy:0.984799991846\n",
      "save model\n",
      "2200, valid_accurarcy:0.984999985695\n",
      "save model\n",
      "2300, valid_accurarcy:0.984199994802\n",
      "2400, valid_accurarcy:0.984399998188\n",
      "2500, valid_accurarcy:0.985199992657\n",
      "save model\n",
      "2600, valid_accurarcy:0.986399986744\n",
      "save model\n",
      "2700, valid_accurarcy:0.986599985361\n",
      "save model\n",
      "2800, valid_accurarcy:0.985799993277\n",
      "2900, valid_accurarcy:0.985599987507\n",
      "3000, valid_accurarcy:0.9857999897\n",
      "3100, valid_accurarcy:0.988199989796\n",
      "save model\n",
      "3200, valid_accurarcy:0.986799983978\n",
      "3300, valid_accurarcy:0.987399986982\n",
      "3400, valid_accurarcy:0.988599990606\n",
      "save model\n",
      "3500, valid_accurarcy:0.987599992752\n",
      "3600, valid_accurarcy:0.988599996567\n",
      "save model\n",
      "3700, valid_accurarcy:0.988599984646\n",
      "3800, valid_accurarcy:0.986999979019\n",
      "3900, valid_accurarcy:0.989599992037\n",
      "save model\n",
      "4000, valid_accurarcy:0.989199991226\n",
      "4100, valid_accurarcy:0.989199994802\n",
      "4200, valid_accurarcy:0.988799986839\n",
      "4300, valid_accurarcy:0.986799986362\n",
      "4400, valid_accurarcy:0.987799988985\n",
      "4500, valid_accurarcy:0.988599989414\n",
      "4600, valid_accurarcy:0.988599995375\n",
      "4700, valid_accurarcy:0.988999989033\n",
      "4800, valid_accurarcy:0.987999987602\n",
      "4900, valid_accurarcy:0.988199982643\n",
      "5000, valid_accurarcy:0.988599989414\n",
      "5100, valid_accurarcy:0.988799986839\n",
      "5200, valid_accurarcy:0.98979998827\n",
      "save model\n",
      "5300, valid_accurarcy:0.990199990273\n",
      "save model\n",
      "5400, valid_accurarcy:0.990999988317\n",
      "save model\n",
      "5500, valid_accurarcy:0.989799990654\n",
      "5600, valid_accurarcy:0.990599983931\n",
      "5700, valid_accurarcy:0.98979998827\n",
      "5800, valid_accurarcy:0.99019998908\n",
      "5900, valid_accurarcy:0.990799984932\n",
      "6000, valid_accurarcy:0.989599988461\n",
      "6100, valid_accurarcy:0.991199995279\n",
      "save model\n",
      "6200, valid_accurarcy:0.990399992466\n",
      "6300, valid_accurarcy:0.99139999032\n",
      "save model\n",
      "6400, valid_accurarcy:0.991799978018\n",
      "save model\n",
      "6500, valid_accurarcy:0.9907999897\n",
      "6600, valid_accurarcy:0.990999988317\n",
      "6700, valid_accurarcy:0.989999991655\n",
      "6800, valid_accurarcy:0.990799984932\n",
      "6900, valid_accurarcy:0.990799982548\n",
      "7000, valid_accurarcy:0.991599982977\n",
      "7100, valid_accurarcy:0.990199992657\n",
      "7200, valid_accurarcy:0.990399984121\n",
      "7300, valid_accurarcy:0.991199988127\n",
      "7400, valid_accurarcy:0.990999985933\n",
      "7500, valid_accurarcy:0.991999983788\n",
      "save model\n",
      "7600, valid_accurarcy:0.991999979019\n",
      "7700, valid_accurarcy:0.991399985552\n",
      "7800, valid_accurarcy:0.991599987745\n",
      "7900, valid_accurarcy:0.990399986506\n",
      "8000, valid_accurarcy:0.991199988127\n",
      "8100, valid_accurarcy:0.99139999032\n",
      "8200, valid_accurarcy:0.992199990749\n",
      "save model\n",
      "8300, valid_accurarcy:0.991799987555\n",
      "8400, valid_accurarcy:0.991199986935\n",
      "8500, valid_accurarcy:0.992199985981\n",
      "8600, valid_accurarcy:0.992599978447\n",
      "save model\n",
      "8700, valid_accurarcy:0.991399996281\n",
      "8800, valid_accurarcy:0.990999983549\n",
      "8900, valid_accurarcy:0.990399985313\n",
      "9000, valid_accurarcy:0.991599982977\n",
      "9100, valid_accurarcy:0.991599987745\n",
      "9200, valid_accurarcy:0.992399983406\n",
      "9300, valid_accurarcy:0.991399979591\n",
      "9400, valid_accurarcy:0.992199989557\n",
      "9500, valid_accurarcy:0.992799988985\n",
      "save model\n",
      "9600, valid_accurarcy:0.991999988556\n",
      "9700, valid_accurarcy:0.992199991941\n",
      "9800, valid_accurarcy:0.992199984789\n",
      "9900, valid_accurarcy:0.9925999856\n",
      "10000, valid_accurarcy:0.992199989557\n",
      "10100, valid_accurarcy:0.991799993515\n",
      "10200, valid_accurarcy:0.992199991941\n",
      "10300, valid_accurarcy:0.990999987125\n",
      "10400, valid_accurarcy:0.991199983358\n",
      "10500, valid_accurarcy:0.991399989128\n",
      "10600, valid_accurarcy:0.991399985552\n",
      "10700, valid_accurarcy:0.992399988174\n",
      "10800, valid_accurarcy:0.992199983597\n",
      "10900, valid_accurarcy:0.992999988794\n",
      "save model\n",
      "11000, valid_accurarcy:0.991199988127\n",
      "11100, valid_accurarcy:0.991799987555\n",
      "11200, valid_accurarcy:0.991999988556\n",
      "11300, valid_accurarcy:0.991399986744\n",
      "11400, valid_accurarcy:0.992799985409\n",
      "11500, valid_accurarcy:0.991799989939\n",
      "11600, valid_accurarcy:0.992799986601\n",
      "11700, valid_accurarcy:0.991799980402\n",
      "11800, valid_accurarcy:0.992199994326\n",
      "11900, valid_accurarcy:0.991599987745\n",
      "12000, valid_accurarcy:0.991599993706\n",
      "12100, valid_accurarcy:0.99099998951\n",
      "12200, valid_accurarcy:0.992399981022\n",
      "12300, valid_accurarcy:0.992599984407\n",
      "12400, valid_accurarcy:0.99199998498\n",
      "12500, valid_accurarcy:0.992599983215\n",
      "12600, valid_accurarcy:0.992399983406\n",
      "12700, valid_accurarcy:0.992399983406\n",
      "12800, valid_accurarcy:0.992799990177\n",
      "12900, valid_accurarcy:0.992199995518\n",
      "early stop\n"
     ]
    }
   ],
   "source": [
    "patience = 20\n",
    "best_accurarcy = 0\n",
    "i = 0\n",
    "batch_size = 100\n",
    "\n",
    "while True:\n",
    "    i += 1\n",
    "    batch_xs, batch_ys = mnist.train.next_batch(batch_size)\n",
    "    sess.run(trainer,  feed_dict={x_: batch_xs, y_: batch_ys, keep_prob:0.5})\n",
    "    if i%100 == 0:\n",
    "        valid_accurarcy = 0\n",
    "        for _ in range(mnist.validation.num_examples/batch_size):\n",
    "            batch_xs, batch_ys = mnist.validation.next_batch(batch_size)\n",
    "            valid_accurarcy += sess.run(accuracy, \n",
    "                feed_dict={x_: batch_xs, y_: batch_ys, keep_prob:1})\n",
    "        valid_accurarcy = valid_accurarcy/(mnist.validation.num_examples/batch_size)\n",
    "        print \"%s, valid_accurarcy:%s\" %(i, valid_accurarcy)\n",
    "        if valid_accurarcy > best_accurarcy:\n",
    "            patience = 20\n",
    "            best_accurarcy = valid_accurarcy\n",
    "            print \"save model\"\n",
    "            saver.save(sess, \"model_conv.ckpt\")\n",
    "        else:\n",
    "            patience -= 1\n",
    "            if patience == 0:\n",
    "                print \"early stop\"\n",
    "                break"
   ]
  },
  {
   "cell_type": "code",
   "execution_count": 16,
   "metadata": {
    "collapsed": false
   },
   "outputs": [
    {
     "name": "stdout",
     "output_type": "stream",
     "text": [
      "valid:0.992199984789, test:0.991899984479\n"
     ]
    }
   ],
   "source": [
    "valid_accurarcy = 0\n",
    "test_accurarcy = 0\n",
    "for _ in range(mnist.validation.num_examples/batch_size):\n",
    "    batch_xs, batch_ys = mnist.validation.next_batch(batch_size)\n",
    "    valid_accurarcy += sess.run(accuracy, feed_dict={x_: batch_xs, y_: batch_ys, keep_prob:1})\n",
    "valid_accurarcy = valid_accurarcy/(mnist.validation.num_examples/batch_size)\n",
    "for _ in range(mnist.test.num_examples/batch_size):\n",
    "    batch_xs, batch_ys = mnist.test.next_batch(batch_size)\n",
    "    test_accurarcy += sess.run(accuracy, feed_dict={x_: batch_xs, y_: batch_ys, keep_prob:1})\n",
    "test_accurarcy = test_accurarcy/(mnist.test.num_examples/batch_size)\n",
    "\n",
    "print \"valid:%s, test:%s\"%(valid_accurarcy,test_accurarcy)"
   ]
  },
  {
   "cell_type": "code",
   "execution_count": null,
   "metadata": {
    "collapsed": true
   },
   "outputs": [],
   "source": []
  },
  {
   "cell_type": "code",
   "execution_count": null,
   "metadata": {
    "collapsed": true
   },
   "outputs": [],
   "source": []
  }
 ],
 "metadata": {
  "kernelspec": {
   "display_name": "Python 2",
   "language": "python",
   "name": "python2"
  },
  "language_info": {
   "codemirror_mode": {
    "name": "ipython",
    "version": 2
   },
   "file_extension": ".py",
   "mimetype": "text/x-python",
   "name": "python",
   "nbconvert_exporter": "python",
   "pygments_lexer": "ipython2",
   "version": "2.7.12"
  }
 },
 "nbformat": 4,
 "nbformat_minor": 0
}
